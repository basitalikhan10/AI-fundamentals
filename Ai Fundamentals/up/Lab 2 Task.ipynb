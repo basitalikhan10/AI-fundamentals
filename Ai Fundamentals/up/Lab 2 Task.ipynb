{
 "cells": [
  {
   "cell_type": "markdown",
   "id": "e9fc88de-fcaf-4e55-8edc-8bee25d8cd7e",
   "metadata": {},
   "source": [
    "                                                                Lab Task 02"
   ]
  },
  {
   "cell_type": "markdown",
   "id": "969f17d5-5329-4397-a6f3-7bceb7eb9f1f",
   "metadata": {},
   "source": [
    "Q.1 Which of the following expressions results in SyntaxErrors? Identify the syntax SyntaxErrors and type the reason of error along with the correct code by mentioning its sequence number."
   ]
  },
  {
   "cell_type": "markdown",
   "id": "0a5ee4cc-1b41-485c-b2ac-97e07ac75edb",
   "metadata": {},
   "source": [
    "a)\t6 * -----------8\n",
    "Solution:\n",
    "This expression will result in a SyntaxError because the minus sign is used repeatedly without any operands, which is not valid syntax in Python."
   ]
  },
  {
   "cell_type": "code",
   "execution_count": null,
   "id": "85d3af27-9373-4daf-955c-170a87e78b08",
   "metadata": {},
   "outputs": [],
   "source": [
    "# Correct Code\n",
    "6 * -8"
   ]
  },
  {
   "cell_type": "markdown",
   "id": "3d14c5a6-779b-4bc1-8005-511939d69451",
   "metadata": {},
   "source": [
    "b) 8 = people\n",
    "Solution:\n",
    "This will result in a SyntaxError because = is the assignment operator in Python, and you cannot assign a value to a literal (like the number 8). The left-hand side of the assignment must be a variable."
   ]
  },
  {
   "cell_type": "code",
   "execution_count": null,
   "id": "71c8070a-37d2-4160-9be6-a7d68052a450",
   "metadata": {},
   "outputs": [],
   "source": [
    "# Correct Code\n",
    "people = 8"
   ]
  },
  {
   "cell_type": "markdown",
   "id": "f3adb502-2daf-4b4e-b8f2-65959d253983",
   "metadata": {},
   "source": [
    "c) ((((4 ** 3))))\n",
    "Solution:\n",
    "This expression does not result in a SyntaxError. It's a valid Python expression, though the parentheses are unnecessary."
   ]
  },
  {
   "cell_type": "markdown",
   "id": "b4a89a3c-5112-4717-93a5-d2a76d5401ce",
   "metadata": {},
   "source": [
    "d) (-(-(-(-5))))\n",
    "Solution:\n",
    "It's a valid Python expression. The nested negations are perfectly legal and will simply flip the sign of the number multiple times."
   ]
  },
  {
   "cell_type": "markdown",
   "id": "634d0ae2-4239-4eb1-a113-81f4b8a1360c",
   "metadata": {},
   "source": [
    "e) 4 += 7 / 2\n",
    "Solution:\n",
    "This will result in a SyntaxError because += is an in-place addition assignment operator, and it requires a variable on the left-hand side, not a literal value like 4."
   ]
  },
  {
   "cell_type": "code",
   "execution_count": null,
   "id": "bd16dbca-2483-4265-9eea-e6ce45601e49",
   "metadata": {},
   "outputs": [],
   "source": [
    "# Correct Code\n",
    "variable = 4\n",
    "variable += 7 / 2"
   ]
  },
  {
   "cell_type": "markdown",
   "id": "b9f1825a-c64b-4d4e-a006-08b00d201f68",
   "metadata": {},
   "source": [
    "Q2. Using only the techniques you have learned so far, write a program that calculates\n",
    "    the square and cube of the numbers from 0 to 10 and uses tabs to print the following table of values:"
   ]
  },
  {
   "cell_type": "code",
   "execution_count": 2,
   "id": "ea99e622-683b-4bc3-988e-c136967ae8c7",
   "metadata": {},
   "outputs": [
    {
     "name": "stdout",
     "output_type": "stream",
     "text": [
      "Number\tSquare\tCube\n",
      "0\t0\t0\n",
      "1\t1\t1\n",
      "2\t4\t8\n",
      "3\t9\t27\n",
      "4\t16\t64\n",
      "5\t25\t125\n",
      "6\t36\t216\n",
      "7\t49\t343\n",
      "8\t64\t512\n",
      "9\t81\t729\n",
      "10\t100\t1000\n"
     ]
    }
   ],
   "source": [
    "print(\"Number\\tSquare\\tCube\")\n",
    " \n",
    "for number in range(11):\n",
    "    square = number ** 2\n",
    "    cube = number ** 3\n",
    "  \n",
    "    print(f\"{number}\\t{square}\\t{cube}\")"
   ]
  },
  {
   "cell_type": "markdown",
   "id": "0f0e2513-0331-4025-95bd-777b141d50c5",
   "metadata": {},
   "source": [
    "Q3.Write a program that assigns values to two variables and then swap their values."
   ]
  },
  {
   "cell_type": "code",
   "execution_count": 4,
   "id": "fba00e13-67e1-4d71-8106-2ba51564abae",
   "metadata": {},
   "outputs": [
    {
     "name": "stdout",
     "output_type": "stream",
     "text": [
      "Before : a = 5, b = 10\n",
      "After : a = 10, b = 5\n"
     ]
    }
   ],
   "source": [
    "a = 5\n",
    "b = 10\n",
    " \n",
    "print(f\"Before : a = {a}, b = {b}\")\n",
    "a, b = b, a\n",
    "print(f\"After : a = {a}, b = {b}\")"
   ]
  },
  {
   "cell_type": "markdown",
   "id": "54791904-c7a5-46d2-b496-0cbec8862d68",
   "metadata": {},
   "source": [
    "Variables and Python Input\n",
    "Q4.Write a program that inputs one five-digit number, generates its reverse and displays the reverse on screen."
   ]
  },
  {
   "cell_type": "code",
   "execution_count": null,
   "id": "f5744389-84f2-4cd7-99d2-8825a2eeb8b7",
   "metadata": {},
   "outputs": [],
   "source": [
    "number = input(\"Enter a five-digit number: \") \n",
    "reversed_number = number[::-1]\n",
    "print(f\"The reversed number is: {reversed_number}\")"
   ]
  },
  {
   "cell_type": "markdown",
   "id": "89cff259-8982-42c7-a2d4-919274216a58",
   "metadata": {},
   "source": [
    "Q5. Using whatever we have learned so far, write a program that prints a box, an oval, an arrow and a diamond as follows:"
   ]
  },
  {
   "cell_type": "code",
   "execution_count": 8,
   "id": "8effe0f2-140c-4707-8a1d-d675afdb9aea",
   "metadata": {},
   "outputs": [
    {
     "name": "stdout",
     "output_type": "stream",
     "text": [
      "Box:\n",
      "*****\n",
      "*   *\n",
      "*   *\n",
      "*   *\n",
      "*****\n",
      "\n",
      "\n",
      "Oval:\n",
      "  ***  \n",
      " *     *\n",
      "*       *\n",
      " *     *\n",
      "  ***  \n",
      "\n",
      "\n",
      "Arrow:\n",
      "  *  \n",
      " *** \n",
      "  *  \n",
      "  *  \n",
      "  *  \n",
      "\n",
      "\n",
      "Diamond:\n",
      "  *  \n",
      " * * \n",
      "*   *\n",
      " * * \n",
      "  *  \n"
     ]
    }
   ],
   "source": [
    "# box\n",
    "print(\"Box:\")\n",
    "print(\"*****\")\n",
    "print(\"*   *\")\n",
    "print(\"*   *\")\n",
    "print(\"*   *\")\n",
    "print(\"*****\")\n",
    "print(\"\\n\") \n",
    "# Oval\n",
    "print(\"Oval:\")\n",
    "print(\"  ***  \")\n",
    "print(\" *     *\")\n",
    "print(\"*       *\")\n",
    "print(\" *     *\")\n",
    "print(\"  ***  \")\n",
    "print(\"\\n\") \n",
    "# Arrow\n",
    "print(\"Arrow:\")\n",
    "print(\"  *  \")\n",
    "print(\" *** \")\n",
    "print(\"  *  \")\n",
    "print(\"  *  \")\n",
    "print(\"  *  \")\n",
    "print(\"\\n\")  \n",
    "# Diamond\n",
    "print(\"Diamond:\")\n",
    "print(\"  *  \")\n",
    "print(\" * * \")\n",
    "print(\"*   *\")\n",
    "print(\" * * \")\n",
    "print(\"  *  \")"
   ]
  },
  {
   "cell_type": "markdown",
   "id": "bc3aabff-665b-4586-9961-d6bdec31c78e",
   "metadata": {},
   "source": [
    "Decision Making using Condition Statements\n",
    "Q6. Write a program that reads three nonzero integers and determines and prints if they could be the sides of a right triangle. (Hint : use Pythagoras theorem you learned in mathematics during FSC or matric , try different combinations of the same integers )"
   ]
  },
  {
   "cell_type": "code",
   "execution_count": 12,
   "id": "49c248f7-9e3f-4300-a200-68a7c7c15590",
   "metadata": {},
   "outputs": [
    {
     "name": "stdin",
     "output_type": "stream",
     "text": [
      "Enter the first side:  4\n",
      "Enter the second side:  4\n",
      "Enter the third side:  4\n"
     ]
    },
    {
     "name": "stdout",
     "output_type": "stream",
     "text": [
      "The numbers cannot form a right triangle.\n"
     ]
    }
   ],
   "source": [
    "a = int(input(\"Enter the first side\"))\n",
    "b = int(input(\"Enter the second side\"))\n",
    "c = int(input(\"Enter the third side\"))\n",
    " \n",
    "def  right_triangle(x, y, z):\n",
    "    return x**2 + y**2 == z**2\n",
    "\n",
    "if  right_triangle(a, b, c) or  right_triangle(a, c, b) or  right_triangle(b, c, a):\n",
    "    print(\"The numbers can form a right triangle.\")\n",
    "else:\n",
    "    print(\"The numbers cannot form a right triangle.\")\n"
   ]
  },
  {
   "cell_type": "markdown",
   "id": "7c22e2b1-4cee-473b-842a-9adcee50cf39",
   "metadata": {},
   "source": [
    "Q7. Write a program to prompt for a score between 0.0 and 1.0. If the score is out of range, print an error message. If the score is between 0.0 and 1.0, print a grade using the following table:"
   ]
  },
  {
   "cell_type": "code",
   "execution_count": null,
   "id": "05a95510-f40e-4e0a-a5ff-766877ba7a65",
   "metadata": {},
   "outputs": [],
   "source": [
    "score = float(input(\"Enter a score between 0.0 and 1.0: \"))\n",
    "if 0.0 <= score <= 1.0:\n",
    "    if score >= 0.9:\n",
    "        grade = 'A'\n",
    "    elif score >= 0.8:\n",
    "        grade = 'B'\n",
    "    elif score >= 0.7:\n",
    "        grade = 'C'\n",
    "    elif score >= 0.6:\n",
    "        grade = 'D'\n",
    "    else:\n",
    "        grade = 'F'\n",
    "    print(f\"Grade: {grade}\")\n",
    "else:\n",
    "    print(\"Error: Score is out of range. Please enter a score between 0.0 and 1.0.\")\n"
   ]
  }
 ],
 "metadata": {
  "kernelspec": {
   "display_name": "Python 3 (ipykernel)",
   "language": "python",
   "name": "python3"
  },
  "language_info": {
   "codemirror_mode": {
    "name": "ipython",
    "version": 3
   },
   "file_extension": ".py",
   "mimetype": "text/x-python",
   "name": "python",
   "nbconvert_exporter": "python",
   "pygments_lexer": "ipython3",
   "version": "3.12.4"
  }
 },
 "nbformat": 4,
 "nbformat_minor": 5
}
