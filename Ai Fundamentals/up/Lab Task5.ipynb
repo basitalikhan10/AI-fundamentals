{
 "cells": [
  {
   "cell_type": "markdown",
   "id": "719d3828-653d-4d5a-ac2e-b5838498bcbd",
   "metadata": {},
   "source": [
    "                                                        Lab Task 05"
   ]
  },
  {
   "cell_type": "markdown",
   "id": "d145f69f-c5dc-43c4-94b2-91e070bad085",
   "metadata": {},
   "source": [
    "Task 1. Write a program that inputs a line of text. Output the text in uppercase letters and in lowercase letters using built-in functions."
   ]
  },
  {
   "cell_type": "code",
   "execution_count": 9,
   "id": "82391bdf-61e1-4906-bd86-c7d22aa19314",
   "metadata": {},
   "outputs": [
    {
     "name": "stdin",
     "output_type": "stream",
     "text": [
      "Enter a line of text:  wertyu\n"
     ]
    },
    {
     "name": "stdout",
     "output_type": "stream",
     "text": [
      "The line in uppercase is: WERTYU\n",
      "The line in lowercase is: wertyu\n"
     ]
    }
   ],
   "source": [
    "text = input(\"Enter a line of text: \")\n",
    " \n",
    "uppercase  = text.upper()\n",
    "lowercase  = text.lower()\n",
    " \n",
    "print(\"The line in uppercase is:\",uppercase)\n",
    "print(\"The line in lowercase is:\", lowercase)"
   ]
  },
  {
   "cell_type": "markdown",
   "id": "ad0aee55-6e5d-4c16-8f94-e0729eb4cf5a",
   "metadata": {},
   "source": [
    "Task 2. A simple way to estimate the number of words in a string is to count the number of spaces in the string. Write a program that asks the user for a string and returns an estimate of how many words are in the string."
   ]
  },
  {
   "cell_type": "code",
   "execution_count": 15,
   "id": "4c3fea25-bbf5-41da-8839-5dd92edbdbd5",
   "metadata": {},
   "outputs": [
    {
     "name": "stdin",
     "output_type": "stream",
     "text": [
      "Enter a string:  hhi iiihh\n"
     ]
    },
    {
     "name": "stdout",
     "output_type": "stream",
     "text": [
      "Estimated number of words: 2\n"
     ]
    }
   ],
   "source": [
    "text = input(\"Enter a string: \")\n",
    "word_count = text.count(' ') + 1\n",
    "print(\"Estimated number of words:\", word_count)"
   ]
  },
  {
   "cell_type": "markdown",
   "id": "96d51274-ba03-4fc6-a4f6-e3c09a7c8cf6",
   "metadata": {},
   "source": [
    "Task 3. Write a program that asks the user to enter a string s and then converts s to lowercase, removes all the periods and commas from s, and prints the resulting string.(Hint: use the split method)"
   ]
  },
  {
   "cell_type": "code",
   "execution_count": 17,
   "id": "8f5a5dbc-b9fc-4524-a679-98fb8d27c05d",
   "metadata": {},
   "outputs": [
    {
     "name": "stdin",
     "output_type": "stream",
     "text": [
      "Enter a string:  hreiendie,rrirrh\n"
     ]
    },
    {
     "name": "stdout",
     "output_type": "stream",
     "text": [
      "hreiendierrirrh\n"
     ]
    }
   ],
   "source": [
    "a = input(\"Enter a string: \")\n",
    "a = a.lower()\n",
    "a = a.replace('.', '').replace(',', '')\n",
    "print(a)\n"
   ]
  },
  {
   "cell_type": "markdown",
   "id": "f92269f1-a60b-4267-bd97-5c7116b2b7e2",
   "metadata": {},
   "source": [
    "Task 4. A variable ids refers to the list [4353, 2314, 2956, 3382, 9362, 3900]. Using list methods, do the following:\n",
    "a.\tRemove 3382 from the list.\n",
    "b.\tGet the index of 9362.\n",
    "c.\tInsert 4499 in the list after 9362.\n",
    "d.\tExtend the list by adding [5566, 1830] to it.\n",
    "e.\tReverse the list.\n",
    "f.\tSort the list.\n"
   ]
  },
  {
   "cell_type": "code",
   "execution_count": 23,
   "id": "261b6920-7812-4bf7-ae47-01ce08e5fa30",
   "metadata": {},
   "outputs": [
    {
     "name": "stdout",
     "output_type": "stream",
     "text": [
      "Final : [1830, 2314, 2956, 3900, 4353, 4499, 5566, 9362]\n"
     ]
    }
   ],
   "source": [
    "list = [4353, 2314, 2956, 3382, 9362, 3900]\n",
    "list.remove(3382)\n",
    "\n",
    "list[4]\n",
    "\n",
    "list.insert(list[4] + 1, 4499)\n",
    "\n",
    "list.extend([5566, 1830])\n",
    "\n",
    "list.reverse()\n",
    "\n",
    "list.sort()\n",
    "\n",
    "print(\"Final :\", list)\n"
   ]
  },
  {
   "cell_type": "markdown",
   "id": "afe09ab0-1412-405e-8929-7b92b20f1e4b",
   "metadata": {},
   "source": [
    "Task 4. Write a program that rotates the elements of a list so that the element at the first index moves to the second index, the element in the second index moves to the third index, etc., and the element in the last index moves to the first index."
   ]
  },
  {
   "cell_type": "code",
   "execution_count": 25,
   "id": "07121d46-c333-44d9-88aa-dd694d390a5b",
   "metadata": {},
   "outputs": [
    {
     "name": "stdout",
     "output_type": "stream",
     "text": [
      "Original list: [1, 2, 3, 4, 5]\n",
      "Rotated list: [2, 3, 4, 5, 1]\n"
     ]
    }
   ],
   "source": [
    "def rotate_list(lst):\n",
    "    if len(lst) > 1:\n",
    "        return lst[1:] + [lst[0]]\n",
    "    return lst\n",
    "\n",
    "# Example usage\n",
    "my_list = [1, 2, 3, 4, 5]\n",
    "rotated_list = rotate_list(my_list)\n",
    "print(\"Original list:\", my_list)\n",
    "print(\"Rotated list:\", rotated_list)"
   ]
  },
  {
   "cell_type": "markdown",
   "id": "5042bb06-ecc1-48ee-9a46-b007515e0bcd",
   "metadata": {},
   "source": [
    "Task 5. Write a program that generates 100 random integers that are either 0 or 1. Then find the longest run of zeros, the largest number of zeros in a row. For instance, the longest run of zeros in [1,0,1,1,0,0,0,0,1,0,0] is 4."
   ]
  },
  {
   "cell_type": "code",
   "execution_count": 27,
   "id": "1a17f8ec-d118-4d83-8d2f-e3b361e8f5aa",
   "metadata": {},
   "outputs": [
    {
     "name": "stdout",
     "output_type": "stream",
     "text": [
      "Random list: [0, 1, 0, 1, 0, 0, 1, 1, 0, 0, 1, 1, 0, 0, 1, 1, 0, 0, 1, 0, 1, 1, 0, 1, 0, 1, 0, 1, 0, 0, 0, 1, 0, 1, 1, 0, 0, 0, 0, 1, 0, 1, 1, 0, 1, 1, 1, 0, 0, 1, 0, 0, 1, 1, 1, 0, 1, 1, 0, 1, 1, 1, 1, 0, 1, 1, 0, 0, 0, 0, 1, 1, 0, 1, 0, 0, 1, 0, 0, 1, 0, 0, 0, 1, 0, 0, 1, 1, 0, 0, 0, 1, 0, 0, 1, 1, 0, 0, 0, 1]\n",
      "Longest run of zeros: 4\n"
     ]
    }
   ],
   "source": [
    "import random\n",
    "\n",
    "def longest_run_of_zeros(lst):\n",
    "    max_run = current_run = 0\n",
    "    for num in lst:\n",
    "        if num == 0:\n",
    "            current_run += 1\n",
    "            max_run = max(max_run, current_run)\n",
    "        else:\n",
    "            current_run = 0\n",
    "    return max_run\n",
    "random_list = [random.randint(0, 1) for _ in range(100)]\n",
    "\n",
    "longest_run = longest_run_of_zeros(random_list)\n",
    "\n",
    "print(\"Random list:\", random_list)\n",
    "print(\"Longest run of zeros:\", longest_run)\n"
   ]
  },
  {
   "cell_type": "markdown",
   "id": "d90c2f03-3536-4a96-8687-36ef7764e71c",
   "metadata": {},
   "source": [
    "Task 6. "
   ]
  }
 ],
 "metadata": {
  "kernelspec": {
   "display_name": "Python 3 (ipykernel)",
   "language": "python",
   "name": "python3"
  },
  "language_info": {
   "codemirror_mode": {
    "name": "ipython",
    "version": 3
   },
   "file_extension": ".py",
   "mimetype": "text/x-python",
   "name": "python",
   "nbconvert_exporter": "python",
   "pygments_lexer": "ipython3",
   "version": "3.12.4"
  }
 },
 "nbformat": 4,
 "nbformat_minor": 5
}
