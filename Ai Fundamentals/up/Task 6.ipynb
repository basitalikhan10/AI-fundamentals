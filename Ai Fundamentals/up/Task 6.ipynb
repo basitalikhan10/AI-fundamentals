{
 "cells": [
  {
   "cell_type": "markdown",
   "id": "907c9d4e-ed85-44cc-b597-d010cec2a529",
   "metadata": {},
   "source": [
    "                                                               Lab Task 6"
   ]
  },
  {
   "cell_type": "markdown",
   "id": "54006b41-e38c-457b-9eb8-a86c4b808f25",
   "metadata": {},
   "source": [
    "Task 01. Write a Python class called Rectangle that has attributes length and width. Implement methods to calculate the area and perimeter of the rectangle."
   ]
  },
  {
   "cell_type": "code",
   "execution_count": 10,
   "id": "1f6cb2b2-06a0-4b21-b9b3-d74daa85ab10",
   "metadata": {},
   "outputs": [
    {
     "name": "stdout",
     "output_type": "stream",
     "text": [
      "Area: 20\n",
      "Perimeter: 18\n"
     ]
    }
   ],
   "source": [
    "class Rectangle:\n",
    "    def __init__(self, length, width):\n",
    "        self.length = length\n",
    "        self.width = width\n",
    "\n",
    "    def area(self):\n",
    "        return self.length * self.width\n",
    "\n",
    "    def perimeter(self):\n",
    "        return 2 * (self.length + self.width)\n",
    "\n",
    "    rect = Rectangle(5, 4)\n",
    "    \n",
    "    print(\"Area:\", rect.area())           \n",
    "    print(\"Perimeter:\", rect.perimeter()) \n"
   ]
  },
  {
   "cell_type": "markdown",
   "id": "8e091893-fe90-4540-aef5-d2a8b23a7054",
   "metadata": {},
   "source": [
    "Task 02.Create a class hierarchy in Python consisting of a base class called Animal, and derived classes Dog, Cat, and Bird. Each derived class should have its unique method. Instantiate objects of each class and demonstrate polymorphism by calling a common method on each object."
   ]
  },
  {
   "cell_type": "code",
   "execution_count": null,
   "id": "41dec328-5ac8-47d3-864c-a7441c8091fd",
   "metadata": {},
   "outputs": [],
   "source": [
    "I was absent that day."
   ]
  },
  {
   "cell_type": "markdown",
   "id": "45c0dac9-f3ab-4a21-8d4c-6c177b602d92",
   "metadata": {},
   "source": [
    "Task 03. Write a Python class called Shape with a method area() that returns the area of the shape. Create two subclasses, Rectangle and Circle, each overriding the area() method to calculate the area of the specific shape. Instantiate objects of each class and display their areas."
   ]
  },
  {
   "cell_type": "code",
   "execution_count": 14,
   "id": "0c46fe0d-300c-450a-bd3e-66129014988f",
   "metadata": {},
   "outputs": [
    {
     "name": "stdout",
     "output_type": "stream",
     "text": [
      "Rectangle area: 15\n",
      "Circle area: 50.26548245743669\n"
     ]
    }
   ],
   "source": [
    "import math\n",
    "\n",
    "class Shape:\n",
    "    def area(self):\n",
    "        print(\"Subclasses must implement this method\")\n",
    "\n",
    "class Rectangle(Shape):\n",
    "    def __init__(self, length, width):\n",
    "        self.length = length\n",
    "        self.width = width\n",
    "\n",
    "    def area(self):\n",
    "        return self.length * self.width\n",
    "\n",
    "class Circle(Shape):\n",
    "    def __init__(self, radius):\n",
    "        self.radius = radius\n",
    "\n",
    "    def area(self):\n",
    "        return math.pi * (self.radius ** 2)\n",
    "rectangle = Rectangle(5, 3)\n",
    "circle = Circle(4)\n",
    "\n",
    "print(f\"Rectangle area: {rectangle.area()}\")   \n",
    "print(f\"Circle area: {circle.area()}\")        \n"
   ]
  },
  {
   "cell_type": "code",
   "execution_count": null,
   "id": "1f49bdef-eb6d-4f3e-ab70-d3b23d930f7e",
   "metadata": {},
   "outputs": [],
   "source": []
  }
 ],
 "metadata": {
  "kernelspec": {
   "display_name": "Python 3 (ipykernel)",
   "language": "python",
   "name": "python3"
  },
  "language_info": {
   "codemirror_mode": {
    "name": "ipython",
    "version": 3
   },
   "file_extension": ".py",
   "mimetype": "text/x-python",
   "name": "python",
   "nbconvert_exporter": "python",
   "pygments_lexer": "ipython3",
   "version": "3.12.4"
  }
 },
 "nbformat": 4,
 "nbformat_minor": 5
}
