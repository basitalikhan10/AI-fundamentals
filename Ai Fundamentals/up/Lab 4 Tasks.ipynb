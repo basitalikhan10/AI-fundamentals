{
 "cells": [
  {
   "cell_type": "markdown",
   "id": "58d6c4a7-67ec-445b-878b-c756e570d6cb",
   "metadata": {},
   "source": [
    "                                                                 TASK 04"
   ]
  },
  {
   "cell_type": "markdown",
   "id": "33361b5f-4c1d-42ac-b066-63fcb6b092f2",
   "metadata": {},
   "source": [
    "Task 1: Define a function called hypotenuse that calculates the length of the hypotenuse of a right triangle when the other two sides are given. Use this function in a program to determine the length of the hypotenuse for each of the following triangles. The function should take two arguments of float type and return the hypotenuse as float type too. The sample output is as following:"
   ]
  },
  {
   "cell_type": "code",
   "execution_count": 22,
   "id": "7a1a45ae-619d-4dd2-8232-ddbc282bd640",
   "metadata": {},
   "outputs": [
    {
     "name": "stdin",
     "output_type": "stream",
     "text": [
      "Enter the first side of the triangle:  3\n",
      "Enter the second side of the triangle:  4\n"
     ]
    },
    {
     "name": "stdout",
     "output_type": "stream",
     "text": [
      "Hypotenuse: 5.0\n"
     ]
    }
   ],
   "source": [
    "import math\n",
    "side1 = float(input(\"Enter the first side of the triangle: \"))\n",
    "side2 = float(input(\"Enter the second side of the triangle: \"))\n",
    "hypotenuse = math.sqrt(side1**2 + side2**2)\n",
    "print(\"Hypotenuse:\", hypotenuse)\r\n"
   ]
  },
  {
   "cell_type": "markdown",
   "id": "8e9e5d62-3122-4b7a-9bfd-9efd21edcab8",
   "metadata": {},
   "source": [
    "Task 2: Write a function distance that calculates the distance between two points (x1, y1) and (x2, y2). All numbers and return values should be of floating type. Use this function in your program. The sample output is as following:"
   ]
  },
  {
   "cell_type": "code",
   "execution_count": null,
   "id": "9d6d88f7-a5cc-4ecc-9a7d-ffb21692b91b",
   "metadata": {},
   "outputs": [],
   "source": [
    "import math\n",
    "x1, y1 = map(float, input(\"Enter the first point (x y): \").split())\n",
    "x2, y2 = map(float, input(\"Enter the second point (x y): \").split())\n",
    "distance = math.sqrt((x2 - x1)**2 + (y2 - y1)**2)\n",
    "print(f\"Distance between ({x1:.2f}, {y1:.2f}) and ({x2:.2f}, {y2:.2f}) is {distance:.2f}\")\n"
   ]
  },
  {
   "cell_type": "raw",
   "id": "2beae3ca-fe8b-4d66-a1d4-064616401873",
   "metadata": {},
   "source": [
    "Task 3: Write a function reversed that takes an integer value (between 1-9999) and returns the number with its digits reversed. For example, given the number 7631, the function should return 1367. "
   ]
  },
  {
   "cell_type": "code",
   "execution_count": 44,
   "id": "4daffb1d-a9e0-436f-a321-a7e471c3dedf",
   "metadata": {},
   "outputs": [
    {
     "name": "stdin",
     "output_type": "stream",
     "text": [
      "Enter any number 3332\n"
     ]
    },
    {
     "data": {
      "text/plain": [
       "'2333'"
      ]
     },
     "execution_count": 44,
     "metadata": {},
     "output_type": "execute_result"
    }
   ],
   "source": [
    "number= input(\"Enter any number\")\n",
    "reverse_number= number[:: -1]\n",
    "reverse_number"
   ]
  },
  {
   "cell_type": "markdown",
   "id": "2f65613e-a6db-457f-87ee-847154922192",
   "metadata": {},
   "source": [
    "Task 4: Write a function is_prime that accepts an integer as argument and returns True if the number is prime and False otherwise. Use this function in your program to print on screen all the 4 digit prime numbers."
   ]
  },
  {
   "cell_type": "code",
   "execution_count": 56,
   "id": "e645cbd8-2fc5-4b87-8113-f1376f56737d",
   "metadata": {},
   "outputs": [
    {
     "name": "stdout",
     "output_type": "stream",
     "text": [
      "2\n",
      "3\n",
      "5\n",
      "7\n",
      "11\n",
      "13\n",
      "17\n",
      "19\n"
     ]
    }
   ],
   "source": [
    "def prime(n):\n",
    "    if n <= 1:\n",
    "        return False\n",
    "    for i in range(2, int(n**0.5) + 1):\n",
    "        if n % i == 0:\n",
    "            return False\n",
    "    return True\n",
    "\n",
    "for num in range(1, 20):\n",
    "    if  prime(num):\n",
    "        print(num)\n"
   ]
  },
  {
   "cell_type": "markdown",
   "id": "0c819ee3-60ce-4b22-af28-8383baa5a58b",
   "metadata": {},
   "source": [
    "Task 5: Write a function qualityPoints that inputs a student’s average and returns 4 if a student's average is 90-100, 3 if the average is 80-89, 2 if the average is 70-79, 1 if the average is 60-69, and 0 if the average is lower than 60. Use this function in your program that reads average from the student and prints on screen the corresponding GPA as shown below."
   ]
  },
  {
   "cell_type": "code",
   "execution_count": 62,
   "id": "0c4727ab-6ecb-4d34-9d5c-d1db6dc772ff",
   "metadata": {},
   "outputs": [
    {
     "name": "stdin",
     "output_type": "stream",
     "text": [
      "Enter the student's average:  90\n"
     ]
    },
    {
     "name": "stdout",
     "output_type": "stream",
     "text": [
      "90 on a 4 point scale is 4\n"
     ]
    }
   ],
   "source": [
    "def calculate(average):\n",
    "    if average >= 90:\n",
    "        return 4\n",
    "    elif average >= 80:\n",
    "        return 3\n",
    "    elif average >= 70:\n",
    "        return 2\n",
    "    elif average >= 60:\n",
    "        return 1\n",
    "    else:\n",
    "        return 0\n",
    "average = int(input(\"Enter the student's average: \"))\n",
    "gpa = calculate(average)\n",
    "print(f\"{average} on a 4 point scale is {gpa}\")\n"
   ]
  },
  {
   "cell_type": "markdown",
   "id": "0ce3754a-e51d-4e21-924a-1fefd66c356c",
   "metadata": {},
   "source": [
    "Task 7: Write a function called number_of_factors that takes an integer and returns how many factors the number has."
   ]
  },
  {
   "cell_type": "code",
   "execution_count": 68,
   "id": "1bcd3e42-6465-48db-8232-29da93158422",
   "metadata": {},
   "outputs": [
    {
     "name": "stdin",
     "output_type": "stream",
     "text": [
      "Enter any number 34\n"
     ]
    },
    {
     "name": "stdout",
     "output_type": "stream",
     "text": [
      "34 has 4 factors\n"
     ]
    }
   ],
   "source": [
    "number=int(input(\"Enter any number\"))\n",
    "def  factors(n):\n",
    "    count = 0\n",
    "    for i in range(1, n + 1):\n",
    "        if n % i == 0:\n",
    "            count += 1\n",
    "    return count\n",
    "factors_count =  factors(number)\n",
    "print(f\"{number} has {factors_count} factors\")"
   ]
  },
  {
   "cell_type": "code",
   "execution_count": null,
   "id": "8ac3c7c3-0521-47bd-bea3-08b74b51fe0d",
   "metadata": {},
   "outputs": [],
   "source": []
  }
 ],
 "metadata": {
  "kernelspec": {
   "display_name": "Python 3 (ipykernel)",
   "language": "python",
   "name": "python3"
  },
  "language_info": {
   "codemirror_mode": {
    "name": "ipython",
    "version": 3
   },
   "file_extension": ".py",
   "mimetype": "text/x-python",
   "name": "python",
   "nbconvert_exporter": "python",
   "pygments_lexer": "ipython3",
   "version": "3.12.4"
  }
 },
 "nbformat": 4,
 "nbformat_minor": 5
}
