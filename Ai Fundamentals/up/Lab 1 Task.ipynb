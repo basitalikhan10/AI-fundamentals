{
 "cells": [
  {
   "cell_type": "markdown",
   "id": "d09a86c5-0937-4aa8-a133-c53de986cd11",
   "metadata": {},
   "source": [
    "                                                    Lab 1 Task"
   ]
  },
  {
   "cell_type": "markdown",
   "id": "db377ad2-ebee-4174-b1a4-c071d5941f41",
   "metadata": {},
   "source": [
    "Task 01. Write a program in jupyter notebook, that prints on screen the message Hello, World."
   ]
  },
  {
   "cell_type": "code",
   "execution_count": 3,
   "id": "167883de-4fa3-4848-ae2e-0241e996049a",
   "metadata": {},
   "outputs": [
    {
     "name": "stdout",
     "output_type": "stream",
     "text": [
      "Hello, World\n"
     ]
    }
   ],
   "source": [
    "print(\"Hello, World\")"
   ]
  },
  {
   "cell_type": "markdown",
   "id": "2d1fbaf1-a78c-4d47-870a-2ecb102a89ac",
   "metadata": {},
   "source": [
    "Task 02. Using the program in (1), what happens if we remove the closing quotation around the text Hello, World?"
   ]
  },
  {
   "cell_type": "code",
   "execution_count": 5,
   "id": "80c8093c-44d8-443c-8224-942c632d8e03",
   "metadata": {},
   "outputs": [
    {
     "ename": "SyntaxError",
     "evalue": "incomplete input (2795691275.py, line 1)",
     "output_type": "error",
     "traceback": [
      "\u001b[1;36m  Cell \u001b[1;32mIn[5], line 1\u001b[1;36m\u001b[0m\n\u001b[1;33m    print(\"Hello, World\"\u001b[0m\n\u001b[1;37m                        ^\u001b[0m\n\u001b[1;31mSyntaxError\u001b[0m\u001b[1;31m:\u001b[0m incomplete input\n"
     ]
    }
   ],
   "source": [
    "print(\"Hello, World\""
   ]
  },
  {
   "cell_type": "markdown",
   "id": "cbf26beb-7369-4a6f-9bda-b5fe440f18f9",
   "metadata": {},
   "source": [
    "Task 03. Using the program in (1), what happens if we remove both the quotations around the text Hello, World? How is it different from the behavior in (2)."
   ]
  },
  {
   "cell_type": "code",
   "execution_count": 7,
   "id": "b8a6111d-3562-48fa-8d76-d9849ef30d4f",
   "metadata": {},
   "outputs": [
    {
     "ename": "NameError",
     "evalue": "name 'Hello' is not defined",
     "output_type": "error",
     "traceback": [
      "\u001b[1;31m---------------------------------------------------------------------------\u001b[0m",
      "\u001b[1;31mNameError\u001b[0m                                 Traceback (most recent call last)",
      "Cell \u001b[1;32mIn[7], line 1\u001b[0m\n\u001b[1;32m----> 1\u001b[0m \u001b[38;5;28mprint\u001b[39m(Hello, World)\n",
      "\u001b[1;31mNameError\u001b[0m: name 'Hello' is not defined"
     ]
    }
   ],
   "source": [
    "print(Hello, World)"
   ]
  },
  {
   "cell_type": "markdown",
   "id": "bd9eb835-e30c-4cea-8af1-f45e5233e3d2",
   "metadata": {},
   "source": [
    "Task 04. 4.\tWrite a program using the print() command  that produces the following output:\r\n",
    "\r\n",
    "            *\r\n",
    "          *        *\r\n",
    "  ***\r\n",
    "          ****\r\n",
    "          *****\r\n"
   ]
  }
 ],
 "metadata": {
  "kernelspec": {
   "display_name": "Python 3 (ipykernel)",
   "language": "python",
   "name": "python3"
  },
  "language_info": {
   "codemirror_mode": {
    "name": "ipython",
    "version": 3
   },
   "file_extension": ".py",
   "mimetype": "text/x-python",
   "name": "python",
   "nbconvert_exporter": "python",
   "pygments_lexer": "ipython3",
   "version": "3.12.4"
  }
 },
 "nbformat": 4,
 "nbformat_minor": 5
}
