{
 "cells": [
  {
   "cell_type": "markdown",
   "id": "3b1ae6c0-1e7e-412c-978c-e401d0e60e8e",
   "metadata": {},
   "source": [
    "                                                            Lab Task 3"
   ]
  },
  {
   "cell_type": "markdown",
   "id": "07ff197a-e269-4699-8eb6-f9a9a3b13313",
   "metadata": {},
   "source": [
    "Task 1: Write a program that asks the user about the number of values he/she wants to enter. Than enter the values as per the required number, calculate its sum and identify the smallest value among them."
   ]
  },
  {
   "cell_type": "code",
   "execution_count": null,
   "id": "ff991198-3809-442e-80fb-d9330fab4a63",
   "metadata": {},
   "outputs": [],
   "source": [
    "num_values = int(input(\"How many values do you want to enter? \"))\n",
    "values = []\n",
    "for i in range(num_values):\n",
    "    value = float(input(f\"Enter value {i + 1}: \"))\n",
    "    values.append(value)\n",
    "total_sum = sum(values)\n",
    "smallest_value = min(values)\n",
    "print(f\"\\nThe sum of the entered values is: {total_sum}\")\n",
    "print(f\"The smallest value entered is: {smallest_value}\")\n"
   ]
  },
  {
   "cell_type": "markdown",
   "id": "865eac44-b3ec-42ee-a46f-315b328660c1",
   "metadata": {},
   "source": [
    "Task 2: Write a function factorial that accepts an integer as parameter and returns its factorial. \n",
    "Using the factorial function, write a program that evaluates the factorials of the integers from 1 to 5. \n"
   ]
  },
  {
   "cell_type": "code",
   "execution_count": 2,
   "id": "6078c670-ad9e-492f-92b1-450c294a3160",
   "metadata": {},
   "outputs": [
    {
     "name": "stdout",
     "output_type": "stream",
     "text": [
      "Number     Factorial \n",
      "--------------------\n",
      "1          1         \n",
      "2          2         \n",
      "3          6         \n",
      "4          24        \n",
      "5          120       \n"
     ]
    }
   ],
   "source": [
    "import math\n",
    " \n",
    "print(f\"{'Number':<10} {'Factorial':<10}\")\n",
    "print(\"-\" * 20)\n",
    "for i in range(1, 6):\n",
    "    factorial = math.factorial(i)\n",
    "    print(f\"{i:<10} {factorial:<10}\")"
   ]
  },
  {
   "cell_type": "markdown",
   "id": "d97db0b5-e372-4242-a357-608fbd60177c",
   "metadata": {},
   "source": [
    "Task 3: Write a program that plays an incredibly stupid number-guessing game. The user will try to guess the secret number until they get it right. That means it will keep looping as long as the guess is different from the secret number. You must store the secret number in a variable, and use that variable throughout. "
   ]
  },
  {
   "cell_type": "code",
   "execution_count": null,
   "id": "0e3fde2b-3a01-4b2a-87d1-8707aaa59a54",
   "metadata": {},
   "outputs": [
    {
     "name": "stdin",
     "output_type": "stream",
     "text": [
      "Guess the secret number:  4\n"
     ]
    },
    {
     "name": "stdout",
     "output_type": "stream",
     "text": [
      "Wrong guess! Try again.\n"
     ]
    },
    {
     "name": "stdin",
     "output_type": "stream",
     "text": [
      "Guess the secret number:  3\n"
     ]
    },
    {
     "name": "stdout",
     "output_type": "stream",
     "text": [
      "Wrong guess! Try again.\n"
     ]
    }
   ],
   "source": [
    "secret_number = 21   \n",
    " \n",
    "while True:\n",
    "    guess = int(input(\"Guess the secret number: \"))\n",
    "    \n",
    "    if guess == secret_number:\n",
    "        print(\"Congratulations! You've guessed the right number!\")\n",
    "        break  \n",
    "    else:\n",
    "        print(\"Wrong guess! Try again.\")"
   ]
  },
  {
   "cell_type": "markdown",
   "id": "38592b12-4fda-46b0-82b1-2e63143ab5e7",
   "metadata": {},
   "source": [
    "Task 4: The greatest common divisor (GCD) of two integers is the largest integer that evenly divides each of the two numbers. Write function gcd that returns the greatest common divisor of two integers. \r\n",
    "Use the gcd function in your program to determine the GCD of the numbers in the sample output:\r\n"
   ]
  },
  {
   "cell_type": "code",
   "execution_count": null,
   "id": "dec5d175-52b2-4692-b497-3e243e77faf9",
   "metadata": {},
   "outputs": [],
   "source": [
    "import math\n",
    "def find_gcd(x, y):\n",
    "    return math.gcd(x, y)\n",
    "\n",
    "num1 = int(input(\"Enter the first number: \"))\n",
    "num2 = int(input(\"Enter the second number: \"))\n",
    "\n",
    "gcd = find_gcd(num1, num2)\n",
    "\n",
    "print(f\"The GCD of {num1} and {num2} is: {gcd}\")"
   ]
  },
  {
   "cell_type": "markdown",
   "id": "b189cd07-1526-4b57-ab25-76cfcd70d7d7",
   "metadata": {},
   "source": [
    "Task 5: An integer is said to be prime if it is divisible only by 1 and itself. For example, 2, 3, 5 and 7 are prime, but 4, 6, 8 and 9 are not.\r\n",
    "a) Write a function that determines if a number is prime.\r\n",
    "b) Use this function in a program that determines and prints all the prime numbers between 1 and 10,000.\r\n"
   ]
  },
  {
   "cell_type": "code",
   "execution_count": null,
   "id": "bce6b6be-3c2b-4737-b395-2ec82389ad69",
   "metadata": {},
   "outputs": [],
   "source": [
    "def is_prime(n):\n",
    "    if n < 2:\n",
    "        return False\n",
    "    for i in range(2, int(n ** 0.5) + 1):\n",
    "        if n % i == 0:\n",
    "            return False\n",
    "    return True\n",
    "\n",
    "number = int(input(\"Enter a number: \"))\n",
    "\n",
    "if is_prime(number):\n",
    "    print(f\"{number} is a prime number.\")\n",
    "else:\n",
    "    print(f\"{number} is not a prime number.\")\n",
    "\n",
    "for num in range(1, 50):\n",
    "    if is_prime(num):\n",
    "        print(num)\n"
   ]
  },
  {
   "cell_type": "markdown",
   "id": "173b8702-2f9c-4b94-901d-ae12ed3f15f6",
   "metadata": {},
   "source": [
    "Task 6: Write a code that prints on screen all the 4-digit Armstrong numbers."
   ]
  },
  {
   "cell_type": "code",
   "execution_count": null,
   "id": "66bdde8d-0b3e-4b88-82a7-3729d43e5d71",
   "metadata": {},
   "outputs": [],
   "source": [
    "def is_armstrong(num):\n",
    "    digits = [int(d) for d in str(num)]\n",
    "    armstrong_sum = sum([d ** 4 for d in digits])\n",
    "    return armstrong_sum == num\n",
    "\n",
    "for number in range(1000, 10000):\n",
    "    if is_armstrong(number):\n",
    "        print(number)"
   ]
  },
  {
   "cell_type": "markdown",
   "id": "4ab4766a-d714-4d44-bc9a-f5a4a34fa9ea",
   "metadata": {},
   "source": [
    "Task 7: Write a program that outputs 100 lines, numbered 1 to 100, each with your name on it. The output should look like the output below:"
   ]
  },
  {
   "cell_type": "code",
   "execution_count": null,
   "id": "2ccd7190-818f-43d0-863d-9e9b4865120f",
   "metadata": {},
   "outputs": [],
   "source": [
    "for i in range(1,101):\n",
    "    print(f\"{i} I'm Akmal\")"
   ]
  },
  {
   "cell_type": "markdown",
   "id": "6be8a596-26f6-4814-bc84-bf35ae4ed984",
   "metadata": {},
   "source": [
    "Task 8: Write a program that prints out a list of the integers from 1 to 20 and their squares. The output should look like this"
   ]
  },
  {
   "cell_type": "code",
   "execution_count": null,
   "id": "5d76fe37-1ff0-4887-9086-4d3727b0861f",
   "metadata": {},
   "outputs": [],
   "source": [
    "for i in range(1, 21):\n",
    "    print(f\"Number: {i}, Square: {i ** 2}\")"
   ]
  },
  {
   "cell_type": "markdown",
   "id": "97e619bf-ea5a-41fc-bb5c-1da2a7bd1f8f",
   "metadata": {},
   "source": [
    "Task 9: Write a program that uses a for loop to print the numbers 8, 11, 14, 17, 20, . . . , 83, 86, 89."
   ]
  },
  {
   "cell_type": "code",
   "execution_count": null,
   "id": "474144fd-b3e1-45d5-b212-cba46dd6287e",
   "metadata": {},
   "outputs": [],
   "source": [
    "for i in range(8, 90, 3):\n",
    "    print(f\"Number: {i}\")"
   ]
  },
  {
   "cell_type": "markdown",
   "id": "caf3e362-b0aa-4833-8d6d-2f72bfb7e30f",
   "metadata": {},
   "source": [
    "Task 10: Write a program that asks the user for their name and how many times to print it. The program should print out the user’s name the specified number of times."
   ]
  },
  {
   "cell_type": "code",
   "execution_count": null,
   "id": "ea416f5b-87a5-45ef-90ae-ff7e30cd6a93",
   "metadata": {},
   "outputs": [],
   "source": [
    "name=(input(\"Enter Your Name:\"))\n",
    "times=int(input(\"Number Of Iterations You Want:\"))\n",
    "\n",
    "for i in range(1,times+1):\n",
    "    print(f\"{i}.\", name)"
   ]
  },
  {
   "cell_type": "markdown",
   "id": "978d1649-7218-4a8b-b896-e6fc3524c2f9",
   "metadata": {},
   "source": [
    "Task 11: Use a for loop to print a box like the one below. Allow the user to specify how wide and how high the box should be."
   ]
  },
  {
   "cell_type": "code",
   "execution_count": null,
   "id": "bc72a525-fcd9-45bf-be19-6bc937e7bb09",
   "metadata": {},
   "outputs": [],
   "source": [
    "for i in range(1,5,1):\n",
    "    print(f\"**********\")"
   ]
  },
  {
   "cell_type": "markdown",
   "id": "a306b6e6-5ca0-4c60-a0ca-127f0880d993",
   "metadata": {},
   "source": [
    "Task 12: Use a for loop to print a triangle like the one below. Allow the user to specify how high the\r\n",
    "triangle should be\r\n"
   ]
  },
  {
   "cell_type": "code",
   "execution_count": null,
   "id": "bfca50b6-3a99-46aa-b80c-f993065d89a2",
   "metadata": {},
   "outputs": [],
   "source": [
    "rows = 5\n",
    "for i in range(1,rows + 1):\n",
    "    print(\"*\" * i)"
   ]
  },
  {
   "cell_type": "markdown",
   "id": "0b0a8de4-6a62-42d1-b491-9868ba02d83a",
   "metadata": {},
   "source": [
    "Task 13 Use for loops to print a diamond like the one below. Allow the user to specify how high the\r\n",
    "diamond should be\r\n"
   ]
  },
  {
   "cell_type": "code",
   "execution_count": null,
   "id": "5b4f21f4-c719-4611-81e2-09609c6594db",
   "metadata": {},
   "outputs": [],
   "source": [
    "height = int(input(\"Enter the height of the diamond (odd number): \"))\n",
    "if height % 2 == 0:\n",
    "    print(\"Please enter an odd number for the height.\")\n",
    "else:\n",
    "    middle = height // 2 + 1\n",
    "    for i in range(1, middle + 1):\n",
    "        print(' ' * (middle - i) + '*' * (2 * i - 1))\n",
    "    for i in range(middle - 1, 0, -1):\n",
    "        print(' ' * (middle - i) + '*' * (2 * i - 1))"
   ]
  },
  {
   "cell_type": "markdown",
   "id": "7d1bcfa9-71f8-4a20-904c-dacaeeeafb3e",
   "metadata": {},
   "source": [
    "Task 14 Write a program that prints a giant letter A like the one below. Allow the user to specify how large the letter should be."
   ]
  },
  {
   "cell_type": "code",
   "execution_count": null,
   "id": "1d3cc1f4-db4f-4f72-909d-ff82a4523697",
   "metadata": {},
   "outputs": [],
   "source": [
    "size = int(input(\"Enter the size of the 'A': \"))\n",
    "for i in range(size):\n",
    "    if i == 0:\n",
    "        print(' ' * (size - i - 1) + '*')\n",
    "    elif i == size // 2:\n",
    "        print('*' * (2 * size - 1))\n",
    "    else:\n",
    "        print(' ' * (size - i - 1) + '*' + ' ' * (2 * i - 1) + '*')"
   ]
  },
  {
   "cell_type": "code",
   "execution_count": null,
   "id": "65c79ddb-c2f5-4832-98fc-8c3868cf650e",
   "metadata": {},
   "outputs": [],
   "source": []
  }
 ],
 "metadata": {
  "kernelspec": {
   "display_name": "Python 3 (ipykernel)",
   "language": "python",
   "name": "python3"
  },
  "language_info": {
   "codemirror_mode": {
    "name": "ipython",
    "version": 3
   },
   "file_extension": ".py",
   "mimetype": "text/x-python",
   "name": "python",
   "nbconvert_exporter": "python",
   "pygments_lexer": "ipython3",
   "version": "3.12.4"
  }
 },
 "nbformat": 4,
 "nbformat_minor": 5
}
